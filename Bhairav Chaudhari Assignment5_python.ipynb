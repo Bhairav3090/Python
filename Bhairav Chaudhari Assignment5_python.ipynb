{
 "cells": [
  {
   "cell_type": "code",
   "execution_count": 14,
   "id": "024d9c70",
   "metadata": {},
   "outputs": [
    {
     "name": "stdout",
     "output_type": "stream",
     "text": [
      "<class 'numpy.ndarray'>\n",
      "JPEG\n",
      "sample.jpg\n",
      "RGB\n",
      "(960, 1280)\n"
     ]
    }
   ],
   "source": [
    "#1.write a python program to get the info and convert that into an\n",
    "#array\n",
    "from PIL import Image \n",
    "from numpy import asarray\n",
    "img= Image.open(\"sample.jpg\") \n",
    "\n",
    "data = asarray(img)\n",
    "print(type(data))\n",
    "\n",
    "# data\n",
    "print(img.format)\n",
    "print(img.filename)\n",
    "print(img.mode)\n",
    "print(img.size)"
   ]
  },
  {
   "cell_type": "code",
   "execution_count": 8,
   "id": "2ec4511a",
   "metadata": {},
   "outputs": [],
   "source": [
    "#2. write a python program to rotate the image according to the\n",
    "#angles specified by user\n",
    "from PIL import Image \n",
    " \n",
    "img= Image.open(\"sample.jpg\") \n",
    " \n",
    "rotate_img= img.rotate(120)\n",
    " \n",
    "rotate_img.show() "
   ]
  },
  {
   "cell_type": "code",
   "execution_count": 9,
   "id": "1d251c61",
   "metadata": {},
   "outputs": [
    {
     "name": "stderr",
     "output_type": "stream",
     "text": [
      "C:\\Users\\91996\\AppData\\Local\\Temp\\ipykernel_16704\\2604413017.py:12: DeprecationWarning: ADAPTIVE is deprecated and will be removed in Pillow 10 (2023-07-01). Use Palette.ADAPTIVE instead.\n",
      "  img3=img.convert(\"p\",palette=Image.ADAPTIVE,colors=88)\n"
     ]
    },
    {
     "ename": "ValueError",
     "evalue": "conversion from RGB to p not supported",
     "output_type": "error",
     "traceback": [
      "\u001b[1;31m---------------------------------------------------------------------------\u001b[0m",
      "\u001b[1;31mValueError\u001b[0m                                Traceback (most recent call last)",
      "File \u001b[1;32m~\\AppData\\Local\\Programs\\Python\\Python310\\lib\\site-packages\\PIL\\Image.py:1030\u001b[0m, in \u001b[0;36mImage.convert\u001b[1;34m(self, mode, matrix, dither, palette, colors)\u001b[0m\n\u001b[0;32m   1029\u001b[0m \u001b[38;5;28;01mtry\u001b[39;00m:\n\u001b[1;32m-> 1030\u001b[0m     im \u001b[38;5;241m=\u001b[39m \u001b[38;5;28;43mself\u001b[39;49m\u001b[38;5;241;43m.\u001b[39;49m\u001b[43mim\u001b[49m\u001b[38;5;241;43m.\u001b[39;49m\u001b[43mconvert\u001b[49m\u001b[43m(\u001b[49m\u001b[43mmode\u001b[49m\u001b[43m,\u001b[49m\u001b[43m \u001b[49m\u001b[43mdither\u001b[49m\u001b[43m)\u001b[49m\n\u001b[0;32m   1031\u001b[0m \u001b[38;5;28;01mexcept\u001b[39;00m \u001b[38;5;167;01mValueError\u001b[39;00m:\n",
      "\u001b[1;31mValueError\u001b[0m: conversion from RGB to p not supported",
      "\nDuring handling of the above exception, another exception occurred:\n",
      "\u001b[1;31mValueError\u001b[0m                                Traceback (most recent call last)",
      "Cell \u001b[1;32mIn [9], line 12\u001b[0m\n\u001b[0;32m      9\u001b[0m img2\u001b[38;5;241m=\u001b[39mimg\u001b[38;5;241m.\u001b[39mconvert(\u001b[38;5;124m\"\u001b[39m\u001b[38;5;124m1\u001b[39m\u001b[38;5;124m\"\u001b[39m)\n\u001b[0;32m     10\u001b[0m img2\u001b[38;5;241m.\u001b[39mshow()\n\u001b[1;32m---> 12\u001b[0m img3\u001b[38;5;241m=\u001b[39m\u001b[43mimg\u001b[49m\u001b[38;5;241;43m.\u001b[39;49m\u001b[43mconvert\u001b[49m\u001b[43m(\u001b[49m\u001b[38;5;124;43m\"\u001b[39;49m\u001b[38;5;124;43mp\u001b[39;49m\u001b[38;5;124;43m\"\u001b[39;49m\u001b[43m,\u001b[49m\u001b[43mpalette\u001b[49m\u001b[38;5;241;43m=\u001b[39;49m\u001b[43mImage\u001b[49m\u001b[38;5;241;43m.\u001b[39;49m\u001b[43mADAPTIVE\u001b[49m\u001b[43m,\u001b[49m\u001b[43mcolors\u001b[49m\u001b[38;5;241;43m=\u001b[39;49m\u001b[38;5;241;43m88\u001b[39;49m\u001b[43m)\u001b[49m\n\u001b[0;32m     13\u001b[0m img3\u001b[38;5;241m.\u001b[39mshow()\n",
      "File \u001b[1;32m~\\AppData\\Local\\Programs\\Python\\Python310\\lib\\site-packages\\PIL\\Image.py:1035\u001b[0m, in \u001b[0;36mImage.convert\u001b[1;34m(self, mode, matrix, dither, palette, colors)\u001b[0m\n\u001b[0;32m   1032\u001b[0m \u001b[38;5;28;01mtry\u001b[39;00m:\n\u001b[0;32m   1033\u001b[0m     \u001b[38;5;66;03m# normalize source image and try again\u001b[39;00m\n\u001b[0;32m   1034\u001b[0m     im \u001b[38;5;241m=\u001b[39m \u001b[38;5;28mself\u001b[39m\u001b[38;5;241m.\u001b[39mim\u001b[38;5;241m.\u001b[39mconvert(getmodebase(\u001b[38;5;28mself\u001b[39m\u001b[38;5;241m.\u001b[39mmode))\n\u001b[1;32m-> 1035\u001b[0m     im \u001b[38;5;241m=\u001b[39m \u001b[43mim\u001b[49m\u001b[38;5;241;43m.\u001b[39;49m\u001b[43mconvert\u001b[49m\u001b[43m(\u001b[49m\u001b[43mmode\u001b[49m\u001b[43m,\u001b[49m\u001b[43m \u001b[49m\u001b[43mdither\u001b[49m\u001b[43m)\u001b[49m\n\u001b[0;32m   1036\u001b[0m \u001b[38;5;28;01mexcept\u001b[39;00m \u001b[38;5;167;01mKeyError\u001b[39;00m \u001b[38;5;28;01mas\u001b[39;00m e:\n\u001b[0;32m   1037\u001b[0m     \u001b[38;5;28;01mraise\u001b[39;00m \u001b[38;5;167;01mValueError\u001b[39;00m(\u001b[38;5;124m\"\u001b[39m\u001b[38;5;124millegal conversion\u001b[39m\u001b[38;5;124m\"\u001b[39m) \u001b[38;5;28;01mfrom\u001b[39;00m \u001b[38;5;21;01me\u001b[39;00m\n",
      "\u001b[1;31mValueError\u001b[0m: conversion from RGB to p not supported"
     ]
    }
   ],
   "source": [
    "#3. State the use of convert function with palettes and do that on\n",
    "#the loaded image.\n",
    "from PIL import Image ,ImageDraw\n",
    "\n",
    "img=Image.open('sample.jpg')\n",
    "img1=img.convert(\"L\")\n",
    "img1.show()\n",
    "\n",
    "img2=img.convert(\"1\")\n",
    "img2.show()\n",
    "\n",
    "img3=img.convert(\"p\",palette=Image.ADAPTIVE,colors=88)\n",
    "img3.show()"
   ]
  },
  {
   "cell_type": "code",
   "execution_count": null,
   "id": "043cd317",
   "metadata": {},
   "outputs": [],
   "source": []
  }
 ],
 "metadata": {
  "kernelspec": {
   "display_name": "Python 3 (ipykernel)",
   "language": "python",
   "name": "python3"
  },
  "language_info": {
   "codemirror_mode": {
    "name": "ipython",
    "version": 3
   },
   "file_extension": ".py",
   "mimetype": "text/x-python",
   "name": "python",
   "nbconvert_exporter": "python",
   "pygments_lexer": "ipython3",
   "version": "3.10.8"
  }
 },
 "nbformat": 4,
 "nbformat_minor": 5
}
